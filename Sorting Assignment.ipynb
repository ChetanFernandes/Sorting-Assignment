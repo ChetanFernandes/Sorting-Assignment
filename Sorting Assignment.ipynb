{
 "cells": [
  {
   "cell_type": "code",
   "execution_count": 2,
   "id": "dce8b982-216a-4672-ba41-0445efbc08f9",
   "metadata": {},
   "outputs": [
    {
     "name": "stdout",
     "output_type": "stream",
     "text": [
      "[10, 10, 20, 20, 20, 20, 30]\n",
      "Value appearing maximum number of time in given array is -> 20\n"
     ]
    }
   ],
   "source": [
    "#Probelm -1 \n",
    "# Given an array of n numbers, give an algorithm which gives the element appearing maximum number of times?\n",
    "def selection_sort(arr):\n",
    "    for i in range(0, len(arr)):\n",
    "        min = i\n",
    "        for j in range(i+1, len(arr)):\n",
    "            if arr[min] > arr[j]:\n",
    "                min = j\n",
    "        arr[i],arr[min] = arr[min],arr[i]\n",
    "        \n",
    "def maximum(arr):\n",
    "    selection_sort(arr)\n",
    "    print(arr)\n",
    "    count = 1\n",
    "    res = arr[0]\n",
    "    max_count = 1\n",
    "    for i in range(1, len(arr)):\n",
    "        if arr[i] == arr[i-1]:\n",
    "            count = count + 1\n",
    "        else:\n",
    "            count = 1\n",
    "      \n",
    "        if count > max_count: \n",
    "            max_count = count\n",
    "            res = arr[i-1]\n",
    "    \n",
    "    print(f\"Value appearing maximum number of time in given array is -> {res}\")\n",
    "            \n",
    "        \n",
    "arr = [10, 20, 10, 20, 30, 20, 20]\n",
    "maximum(arr)"
   ]
  },
  {
   "cell_type": "code",
   "execution_count": 11,
   "id": "b9175b0e-7ba1-4373-ab77-207f889d860a",
   "metadata": {},
   "outputs": [
    {
     "name": "stdout",
     "output_type": "stream",
     "text": [
      "Missing number is -> 10\n"
     ]
    }
   ],
   "source": [
    "# Problem 2 : We are given a list of n-1 integers and these integers are in the range of 1 to n . There are no\n",
    "# duplicates in the list. One of the integers is missing in the list. Give an algorithm to find that element Ex:\n",
    "# [1,2,4,6,3,7,8] 5 is the missing num.\n",
    "\n",
    "def missing_element(arr):\n",
    "    N = len(arr)+1\n",
    "    sum_of_natural_numbers = int((N)*(N+1))//2\n",
    "    sum_of_numbers_arr = sum(arr)\n",
    "    missing_number =  sum_of_natural_numbers -  sum_of_numbers_arr \n",
    "    print(f\"Missing number is -> {missing_number}\")\n",
    "    \n",
    "            \n",
    "arr = [1,2,4,6,3,7,8,9,5] \n",
    "missing_element(arr)"
   ]
  },
  {
   "cell_type": "code",
   "execution_count": 12,
   "id": "1c0bdffb-287a-4fe8-9112-b091f4259630",
   "metadata": {},
   "outputs": [
    {
     "name": "stdout",
     "output_type": "stream",
     "text": [
      "3 occurs odd times\n"
     ]
    }
   ],
   "source": [
    "# Problem 3 Find the Number Occurring Odd Number of Times\n",
    "def odd_time(arr):\n",
    "    res = 0\n",
    "    \n",
    "    for element in arr:\n",
    "        res = res^element\n",
    "    print(f\"{res} occurs odd times\")\n",
    "    \n",
    "    \n",
    "arr = [1,2,3,2,3,1,3]\n",
    "odd_time(arr)"
   ]
  },
  {
   "cell_type": "code",
   "execution_count": 4,
   "id": "96110017-4af0-4199-a3d0-49a6ae9ec946",
   "metadata": {},
   "outputs": [
    {
     "name": "stdout",
     "output_type": "stream",
     "text": [
      "[-3, -1, 0, 1, 2]\n",
      "Two elements are -3, 1\n"
     ]
    }
   ],
   "source": [
    "#Problem 4\n",
    "# Given an array of n elements. Find two elements in the array such that their sum is equal to given element K.\n",
    "\n",
    "def bubble_sort(arr):\n",
    "    isSorted = True\n",
    "    for i in range(len(arr)-1, 0, -1):\n",
    "        for j in range(i):\n",
    "            if arr[j] > arr[j+1]:\n",
    "                isSorted = False\n",
    "                arr[j],arr[j+1] = arr[j+1],arr[j]\n",
    "    if isSorted:\n",
    "        return arr\n",
    "    else:\n",
    "        return arr\n",
    "        \n",
    "def sum1(arr,k):\n",
    "    Two_elements = False\n",
    "    bubble_sort(arr)\n",
    "    print(arr)\n",
    "    l = 0\n",
    "    r = len(arr) - 1\n",
    "    while(l<r):\n",
    "        if (arr[l] + arr[r]) == k:\n",
    "            print(f\"Two elements are {arr[l]}, {arr[r]}\")\n",
    "            Two_elements = True\n",
    "            break\n",
    "        elif arr[l] + arr[r] > k:\n",
    "            r-=1\n",
    "        elif arr[l] + arr[r] < k:\n",
    "            l+=1\n",
    "        else:\n",
    "            pass\n",
    "        \n",
    "    if Two_elements == False:\n",
    "        print(f\"No elements sum matching give number -> {k}\")\n",
    "    \n",
    "\n",
    "arr = [0, -1, 2, -3, 1]\n",
    "sum1(arr,-2)"
   ]
  },
  {
   "cell_type": "code",
   "execution_count": 5,
   "id": "c0383f5d-6395-4d6b-98d1-ccecdc243c2d",
   "metadata": {},
   "outputs": [
    {
     "name": "stdout",
     "output_type": "stream",
     "text": [
      "[1, 2, 3, 6, 9]\n",
      "Sum of elements closed to zero are  (1, 2)\n"
     ]
    }
   ],
   "source": [
    "# Problem 5 : Given an array of both positive and negative numbers, find two numbers such that their sum is\n",
    "# closest to 0. Ex: [ 1 ,60 ,-10, 70, -80,85]. Ans : -80,85.\n",
    "def bubblesort(arr):\n",
    "    isSorted = True\n",
    "    for i in range(len(arr)-1, 0, -1):\n",
    "        for j in range(i):\n",
    "            if arr[j] > arr[j+1]:\n",
    "                isSorted = False\n",
    "                arr[j],arr[j+1] = arr[j+1],arr[j]\n",
    "    return arr\n",
    "        \n",
    "def sum_close_to_zero(arr):\n",
    "    bubblesort(arr)\n",
    "    print(arr)\n",
    "    l = 0\n",
    "    r = len(arr)-1\n",
    "    min_l = l\n",
    "    min_r = r\n",
    "    min_sum = arr[l] + arr[r]\n",
    "    min_sum1 = abs(min_sum)\n",
    "    while(l<r):\n",
    "        final = arr[l] + arr[r]\n",
    "        final1 = abs(final)\n",
    "        if final1 < min_sum1:\n",
    "            min_sum = sum\n",
    "            min_l = l\n",
    "            min_r = r\n",
    "        if(final<0):\n",
    "            l+=1\n",
    "        else:\n",
    "            r-=1\n",
    "    print(f\"Sum of elements closed to zero are  {arr[min_l],arr[min_r]}\")\n",
    "\n",
    "arr = [1, 2, 3,6,9]\n",
    "sum_close_to_zero(arr)"
   ]
  },
  {
   "cell_type": "code",
   "execution_count": 6,
   "id": "6356d7de-32a7-498f-884b-f970ff58b7f7",
   "metadata": {},
   "outputs": [
    {
     "name": "stdout",
     "output_type": "stream",
     "text": [
      "Three elements whose sum is equal to given number 25 are -> 4,6,15\n"
     ]
    }
   ],
   "source": [
    "#Probelm 6\n",
    "# Problem 6 : Given an array of n elements . Find three elements such that their sum is equal to the given number.\n",
    "\n",
    "def sumEquals_givenNumber(A,k):\n",
    "    isSorted = True\n",
    "    for i in range(len(A)-1, 0, -1):\n",
    "        for j in range(i):\n",
    "            if A[j] > A[j+1]:\n",
    "                isSorted = False\n",
    "                A[j],A[j+1] = A[j+1],A[j] \n",
    "    \n",
    "    Numbers_found = False\n",
    "    for i in range(0, len(A)-2):\n",
    "        l = i+1\n",
    "        r = len(A) - 1\n",
    "        while(l<r):\n",
    "            if( A[i] + A[l] + A[r] == k):\n",
    "                print(f\"Three elements whose sum is equal to given number 25 are -> {A[i]},{A[l]},{A[r]}\")\n",
    "                Numbers_found = True\n",
    "                break\n",
    "            elif (A[i] + A[l] + A[r] < k):\n",
    "                l += 1\n",
    "            else: \n",
    "                A[i] + A[l] + A[r] > k\n",
    "                r -= 1   \n",
    "        \n",
    "    if Numbers_found == False:\n",
    "        print(f\"No match found\")\n",
    "            \n",
    "            \n",
    "A = [2,4,5,6,7,9,15,30,40]\n",
    "sumEquals_givenNumber(A,25)"
   ]
  },
  {
   "cell_type": "code",
   "execution_count": 7,
   "id": "53c80dfa-d919-4511-a4d9-c161a94026ff",
   "metadata": {},
   "outputs": [
    {
     "name": "stdout",
     "output_type": "stream",
     "text": [
      " triplets is given array are -> 8, 15, 17\n",
      " triplets is given array are -> 3, 4, 5\n"
     ]
    }
   ],
   "source": [
    "# Problem 7 : Given an array of n elements . Find three elements i, j, k in the array such that i * i + j * j = k*k.\n",
    "def bubblesort(arr):\n",
    "    isSorted = True\n",
    "    for i in range(len(arr)-1, 0, -1):\n",
    "        for j in range(i):\n",
    "            if arr[j] > arr[j+1]:\n",
    "                isSorted = False\n",
    "                arr[j],arr[j+1] = arr[j+1],arr[j]\n",
    "def triplets(arr):\n",
    "    bubblesort(arr)\n",
    "    isTriplets = False\n",
    "    for i in range(len(arr)-1,1,-1):\n",
    "        sum2 = arr[i] * arr[i]\n",
    "        for l in range(0, i-1):\n",
    "            for r in range(l+1, i):\n",
    "                if arr[l] * arr[l] + arr[r] * arr[r] == sum2:\n",
    "                    print(f\" triplets is given array are -> {arr[l]}, {arr[r]}, {arr[i]}\")\n",
    "                    isTriplets = True\n",
    "                else:\n",
    "                    pass\n",
    "    \n",
    "    if isTriplets == False:\n",
    "        print(\"No Triplets\")\n",
    "\n",
    "arr = [2,3,4,6,5,8,15,17]\n",
    "triplets(arr)"
   ]
  },
  {
   "cell_type": "code",
   "execution_count": 8,
   "id": "5e1f5f99-d316-44b9-86dc-55789d443369",
   "metadata": {},
   "outputs": [
    {
     "name": "stdout",
     "output_type": "stream",
     "text": [
      "Value 4 appears 5 times which is more than half the length[4] of array\n"
     ]
    }
   ],
   "source": [
    "# Problem 8 : An element is a majority if it appears more than n/2 times. Give an algorithm takes an array of n element as argument and identifies a majority (if it exists).\n",
    "\n",
    "def insertion_sort(arr):\n",
    "    for i in range(1, len(arr)):\n",
    "        v = arr[i]\n",
    "        j = i\n",
    "        while(j>=1 and arr[j-1] > v):\n",
    "            arr[j] = arr[j-1]\n",
    "            j-=1\n",
    "        arr[j] = v\n",
    "\n",
    "def frequency(arr):\n",
    "    insertion_sort(arr)\n",
    "    l = round(len(arr)/2)\n",
    "    final_count = 0\n",
    "    count = 1\n",
    "    value = 0\n",
    "    for i in range(1, len(arr)):\n",
    "        if arr[i] == arr[i-1]:\n",
    "            count +=1\n",
    "        else:\n",
    "            count = 1\n",
    "                  \n",
    "        if count > l:\n",
    "            final_count = count\n",
    "            value = arr[i-1]\n",
    "    \n",
    "    if final_count > l:\n",
    "        print(f\"Value {value} appears {final_count} times which is more than half the length[{l}] of array\")\n",
    "    else:\n",
    "        return -1\n",
    "    \n",
    "arr = [3, 3, 4, 2, 4, 4, 2, 4,4]\n",
    "frequency(arr)"
   ]
  },
  {
   "cell_type": "code",
   "execution_count": 9,
   "id": "d0cad34a-f240-42b0-b739-5283834abfe4",
   "metadata": {},
   "outputs": [
    {
     "name": "stdout",
     "output_type": "stream",
     "text": [
      "Row number =  1 , MaxCount =  3\n"
     ]
    }
   ],
   "source": [
    "# Problem 9 : Given n × n matrix, and in each row all 1’s are followed by 0’s. Find the row with the maximum number of 0’s.\n",
    "\n",
    "def maximum_zeros(arr,N):\n",
    "    row = 0\n",
    "    j = N - 1\n",
    "    for i in range(0,N):\n",
    "        while (arr[i][j] == 0 and j >= 0):\n",
    "            row = i\n",
    "            j-=1\n",
    "    print(\"Row number = \" , row, \", MaxCount = \", N - 1 - j)\n",
    "\n",
    "arr = [[1,1,0,0],\n",
    "       [1,0,0,0],\n",
    "       [1,1,0,0],\n",
    "       [1,1,1,0]]\n",
    "N = len(arr)\n",
    "maximum_zeros(arr,N)"
   ]
  },
  {
   "cell_type": "code",
   "execution_count": 13,
   "id": "339c5015-8e1d-42a2-b3f8-5cce751c6f66",
   "metadata": {},
   "outputs": [
    {
     "data": {
      "text/plain": [
       "[0, 0, 0, 0, 0, 1, 1, 1, 1, 1, 2, 2]"
      ]
     },
     "execution_count": 13,
     "metadata": {},
     "output_type": "execute_result"
    }
   ],
   "source": [
    "# Problem 10 : Sort an array of 0’s, 1’s and 2’s [or R’s, G’s and B’s]: Given an array A[] consisting of 0’s, 1’s and\n",
    "# 2’s, give an algorithm for sorting A[].The algorithm should put all 0’s first, then all 1’s and finally all 2’s at the\n",
    "# end. Example Input = {0,1,1,0,1,2,1,2,0,0,0,1}, Output = {0,0,0,0,0,1,1,1,1,1,2,2}\n",
    "def dutuch_flag(arr):\n",
    "    i = 0 \n",
    "    l = 0\n",
    "    r = len(arr)-1\n",
    "    while(i<len(arr) and i<=r):\n",
    "        if arr[i] == 0:\n",
    "            arr[l],arr[i] = arr[i],arr[l]\n",
    "            l+=1\n",
    "            i+=1\n",
    "            \n",
    "        elif arr[i] == 2:\n",
    "            arr[i],arr[r] = arr[r],arr[i]\n",
    "            r-=1\n",
    "        else:\n",
    "            i+=1\n",
    "    return arr\n",
    "            \n",
    "arr = [0,1,1,0,1,2,1,2,0,0,0,1]\n",
    "dutuch_flag(arr)"
   ]
  },
  {
   "cell_type": "code",
   "execution_count": null,
   "id": "46ac6b27-ee10-4c17-b84b-447322f7a614",
   "metadata": {},
   "outputs": [],
   "source": []
  }
 ],
 "metadata": {
  "kernelspec": {
   "display_name": "Python 3 (ipykernel)",
   "language": "python",
   "name": "python3"
  },
  "language_info": {
   "codemirror_mode": {
    "name": "ipython",
    "version": 3
   },
   "file_extension": ".py",
   "mimetype": "text/x-python",
   "name": "python",
   "nbconvert_exporter": "python",
   "pygments_lexer": "ipython3",
   "version": "3.10.8"
  }
 },
 "nbformat": 4,
 "nbformat_minor": 5
}
